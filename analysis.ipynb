{
 "cells": [
  {
   "cell_type": "code",
   "execution_count": 1,
   "metadata": {},
   "outputs": [
    {
     "name": "stderr",
     "output_type": "stream",
     "text": [
      "/Users/gennasilva/olympics dataset/ai4all/myenv/lib/python3.13/site-packages/tqdm/auto.py:21: TqdmWarning: IProgress not found. Please update jupyter and ipywidgets. See https://ipywidgets.readthedocs.io/en/stable/user_install.html\n",
      "  from .autonotebook import tqdm as notebook_tqdm\n"
     ]
    }
   ],
   "source": [
    "import pandas as pd\n",
    "import numpy as np\n",
    "import seaborn as sns\n",
    "import matplotlib.pyplot as plt\n",
    "import kagglehub\n",
    "import os\n",
    "import spacy\n",
    "import scipy.stats as stats\n",
    "from sklearn.model_selection import train_test_split\n",
    "from sklearn.feature_extraction.text import TfidfVectorizer\n",
    "from sklearn.preprocessing import OneHotEncoder\n",
    "from sklearn.linear_model import LogisticRegression\n",
    "from sklearn.metrics import classification_report\n",
    "from sklearn.pipeline import make_pipeline\n",
    "from scipy.sparse import hstack\n",
    "from scipy.sparse import csr_matrix\n"
   ]
  },
  {
   "cell_type": "code",
   "execution_count": 3,
   "metadata": {},
   "outputs": [],
   "source": [
    "nlp = spacy.load('en_core_web_sm')"
   ]
  },
  {
   "cell_type": "code",
   "execution_count": 4,
   "metadata": {},
   "outputs": [
    {
     "data": {
      "text/html": [
       "<div>\n",
       "<style scoped>\n",
       "    .dataframe tbody tr th:only-of-type {\n",
       "        vertical-align: middle;\n",
       "    }\n",
       "\n",
       "    .dataframe tbody tr th {\n",
       "        vertical-align: top;\n",
       "    }\n",
       "\n",
       "    .dataframe thead th {\n",
       "        text-align: right;\n",
       "    }\n",
       "</style>\n",
       "<table border=\"1\" class=\"dataframe\">\n",
       "  <thead>\n",
       "    <tr style=\"text-align: right;\">\n",
       "      <th></th>\n",
       "      <th>text</th>\n",
       "      <th>Genre</th>\n",
       "      <th>Tempo</th>\n",
       "      <th>emotion</th>\n",
       "      <th>vec</th>\n",
       "    </tr>\n",
       "  </thead>\n",
       "  <tbody>\n",
       "    <tr>\n",
       "      <th>0</th>\n",
       "      <td>Lyrics/Music Yellen/Pokrass Why are grown up p...</td>\n",
       "      <td>hip hop</td>\n",
       "      <td>64</td>\n",
       "      <td>joy</td>\n",
       "      <td>[ 0.15330859 -0.22987816  0.00712303  0.021512...</td>\n",
       "    </tr>\n",
       "    <tr>\n",
       "      <th>1</th>\n",
       "      <td>Sharing's good, sharing's fine    But no one w...</td>\n",
       "      <td>rock,progressive rock,classic rock</td>\n",
       "      <td>77</td>\n",
       "      <td>joy</td>\n",
       "      <td>[-6.18192591e-02 -3.09498429e-01  5.58754578e-...</td>\n",
       "    </tr>\n",
       "    <tr>\n",
       "      <th>2</th>\n",
       "      <td>[Intro] Let it go, let it go Can’t hold it bac...</td>\n",
       "      <td>synthpop,pop,electropop</td>\n",
       "      <td>140</td>\n",
       "      <td>joy</td>\n",
       "      <td>[-3.57360393e-01 -6.44425571e-01  2.06892177e-...</td>\n",
       "    </tr>\n",
       "    <tr>\n",
       "      <th>3</th>\n",
       "      <td>[Intro: Sav'O] (Madara) J'S, J'S  [Verse 1: Sa...</td>\n",
       "      <td>hip hop</td>\n",
       "      <td>175</td>\n",
       "      <td>anger</td>\n",
       "      <td>[ 0.00773717 -0.31387663  0.08789369  0.067534...</td>\n",
       "    </tr>\n",
       "    <tr>\n",
       "      <th>4</th>\n",
       "      <td>[Produced by: THEMPeople]  [Intro: Sample] \"Lo...</td>\n",
       "      <td>country</td>\n",
       "      <td>96</td>\n",
       "      <td>anger</td>\n",
       "      <td>[-0.03349667 -0.45959458  0.14409794 -0.026550...</td>\n",
       "    </tr>\n",
       "  </tbody>\n",
       "</table>\n",
       "</div>"
      ],
      "text/plain": [
       "                                                text  \\\n",
       "0  Lyrics/Music Yellen/Pokrass Why are grown up p...   \n",
       "1  Sharing's good, sharing's fine    But no one w...   \n",
       "2  [Intro] Let it go, let it go Can’t hold it bac...   \n",
       "3  [Intro: Sav'O] (Madara) J'S, J'S  [Verse 1: Sa...   \n",
       "4  [Produced by: THEMPeople]  [Intro: Sample] \"Lo...   \n",
       "\n",
       "                                Genre  Tempo emotion  \\\n",
       "0                             hip hop     64     joy   \n",
       "1  rock,progressive rock,classic rock     77     joy   \n",
       "2             synthpop,pop,electropop    140     joy   \n",
       "3                             hip hop    175   anger   \n",
       "4                             country     96   anger   \n",
       "\n",
       "                                                 vec  \n",
       "0  [ 0.15330859 -0.22987816  0.00712303  0.021512...  \n",
       "1  [-6.18192591e-02 -3.09498429e-01  5.58754578e-...  \n",
       "2  [-3.57360393e-01 -6.44425571e-01  2.06892177e-...  \n",
       "3  [ 0.00773717 -0.31387663  0.08789369  0.067534...  \n",
       "4  [-0.03349667 -0.45959458  0.14409794 -0.026550...  "
      ]
     },
     "execution_count": 4,
     "metadata": {},
     "output_type": "execute_result"
    }
   ],
   "source": [
    "df = pd.read_csv(\"reduced_spotify_data.csv\")\n",
    "df.head()"
   ]
  },
  {
   "cell_type": "code",
   "execution_count": 12,
   "metadata": {},
   "outputs": [],
   "source": [
    "df = df[['text', 'Genre', 'Tempo', 'emotion']].dropna()"
   ]
  },
  {
   "cell_type": "markdown",
   "metadata": {},
   "source": [
    "Vectorizing the lyrics"
   ]
  },
  {
   "cell_type": "code",
   "execution_count": 13,
   "metadata": {},
   "outputs": [],
   "source": [
    "df['vec'] = df['text'].apply(lambda doc: nlp(doc).vector)"
   ]
  },
  {
   "cell_type": "markdown",
   "metadata": {},
   "source": [
    "2D Array with vectorized values"
   ]
  },
  {
   "cell_type": "code",
   "execution_count": 18,
   "metadata": {},
   "outputs": [],
   "source": [
    "lyrics = np.array([np.array(vec) for vec in df['vec']])"
   ]
  },
  {
   "cell_type": "markdown",
   "metadata": {},
   "source": [
    "Encode genres"
   ]
  },
  {
   "cell_type": "code",
   "execution_count": 27,
   "metadata": {},
   "outputs": [],
   "source": [
    "ohe = OneHotEncoder(sparse_output=False)\n",
    "genre = ohe.fit_transform(df[['Genre']])"
   ]
  },
  {
   "cell_type": "markdown",
   "metadata": {},
   "source": [
    "Reshape the tempo into a 2D array to feed into model"
   ]
  },
  {
   "cell_type": "code",
   "execution_count": 28,
   "metadata": {},
   "outputs": [],
   "source": [
    "tempo = df['Tempo'].values.reshape(-1,1)"
   ]
  },
  {
   "cell_type": "code",
   "execution_count": 29,
   "metadata": {},
   "outputs": [
    {
     "name": "stdout",
     "output_type": "stream",
     "text": [
      "<class 'numpy.ndarray'>\n"
     ]
    }
   ],
   "source": [
    "print(type(genre))"
   ]
  },
  {
   "cell_type": "code",
   "execution_count": 30,
   "metadata": {},
   "outputs": [],
   "source": [
    "combine_features = np.hstack([lyrics,genre,tempo])"
   ]
  },
  {
   "cell_type": "markdown",
   "metadata": {},
   "source": [
    "split to train"
   ]
  },
  {
   "cell_type": "code",
   "execution_count": 32,
   "metadata": {},
   "outputs": [],
   "source": [
    "y = df['emotion']\n",
    "X_train, X_test, y_train, y_test = train_test_split(combine_features, y, test_size=0.2, random_state=42)"
   ]
  },
  {
   "cell_type": "code",
   "execution_count": 34,
   "metadata": {},
   "outputs": [
    {
     "name": "stdout",
     "output_type": "stream",
     "text": [
      "              precision    recall  f1-score   support\n",
      "\n",
      "       anger       0.41      0.32      0.36       185\n",
      "        fear       0.00      0.00      0.00        49\n",
      "         joy       0.48      0.60      0.53       396\n",
      "        love       0.00      0.00      0.00        48\n",
      "     sadness       0.42      0.47      0.44       314\n",
      "    surprise       0.00      0.00      0.00         8\n",
      "\n",
      "    accuracy                           0.45      1000\n",
      "   macro avg       0.22      0.23      0.22      1000\n",
      "weighted avg       0.40      0.45      0.42      1000\n",
      "\n"
     ]
    },
    {
     "name": "stderr",
     "output_type": "stream",
     "text": [
      "/Users/gennasilva/olympics dataset/ai4all/myenv/lib/python3.13/site-packages/sklearn/metrics/_classification.py:1706: UndefinedMetricWarning: Precision is ill-defined and being set to 0.0 in labels with no predicted samples. Use `zero_division` parameter to control this behavior.\n",
      "  _warn_prf(average, modifier, f\"{metric.capitalize()} is\", result.shape[0])\n",
      "/Users/gennasilva/olympics dataset/ai4all/myenv/lib/python3.13/site-packages/sklearn/metrics/_classification.py:1706: UndefinedMetricWarning: Precision is ill-defined and being set to 0.0 in labels with no predicted samples. Use `zero_division` parameter to control this behavior.\n",
      "  _warn_prf(average, modifier, f\"{metric.capitalize()} is\", result.shape[0])\n",
      "/Users/gennasilva/olympics dataset/ai4all/myenv/lib/python3.13/site-packages/sklearn/metrics/_classification.py:1706: UndefinedMetricWarning: Precision is ill-defined and being set to 0.0 in labels with no predicted samples. Use `zero_division` parameter to control this behavior.\n",
      "  _warn_prf(average, modifier, f\"{metric.capitalize()} is\", result.shape[0])\n"
     ]
    }
   ],
   "source": [
    "y_pred = model.predict(X_test)\n",
    "print(classification_report(y_test, y_pred))"
   ]
  },
  {
   "cell_type": "markdown",
   "metadata": {},
   "source": [
    "Finding null values to clean data"
   ]
  },
  {
   "cell_type": "code",
   "execution_count": 35,
   "metadata": {},
   "outputs": [
    {
     "name": "stdout",
     "output_type": "stream",
     "text": [
      "text       0\n",
      "Genre      0\n",
      "Tempo      0\n",
      "emotion    0\n",
      "vec        0\n",
      "dtype: int64\n"
     ]
    }
   ],
   "source": [
    "df.isnull().values.any()\n",
    "df.isnull().head()\n",
    "nan_count = np.sum(df.isnull(), axis = 0)\n",
    "print(nan_count)"
   ]
  },
  {
   "cell_type": "code",
   "execution_count": 36,
   "metadata": {},
   "outputs": [
    {
     "data": {
      "text/plain": [
       "([0, 1, 2, 3],\n",
       " [Text(0, 0, 'joy'),\n",
       "  Text(1, 0, 'sadness'),\n",
       "  Text(2, 0, 'anger'),\n",
       "  Text(3, 0, 'love')])"
      ]
     },
     "execution_count": 36,
     "metadata": {},
     "output_type": "execute_result"
    },
    {
     "data": {
      "image/png": "[encoded data removed]",
      "text/plain": [
       "<Figure size 640x480 with 1 Axes>"
      ]
     },
     "metadata": {},
     "output_type": "display_data"
    }
   ],
   "source": [
    "sns.countplot(x=y_pred)\n",
    "plt.title(\"Predicted Emotion Distribution\")\n",
    "plt.xticks(rotation=45)"
   ]
  },
  {
   "cell_type": "code",
   "execution_count": null,
   "metadata": {},
   "outputs": [
    {
     "data": {
      "text/plain": [
       "(5000, 5)"
      ]
     },
     "execution_count": 25,
     "metadata": {},
     "output_type": "execute_result"
    }
   ],
   "source": [
    "df.shape"
   ]
  }
 ],
 "metadata": {
  "jupytext": {
   "formats": "ipynb,py"
  },
  "kernelspec": {
   "display_name": "myenv",
   "language": "python",
   "name": "python3"
  },
  "language_info": {
   "codemirror_mode": {
    "name": "ipython",
    "version": 3
   },
   "file_extension": ".py",
   "mimetype": "text/x-python",
   "name": "python",
   "nbconvert_exporter": "python",
   "pygments_lexer": "ipython3",
   "version": "3.13.2"
  }
 },
 "nbformat": 4,
 "nbformat_minor": 2
}
