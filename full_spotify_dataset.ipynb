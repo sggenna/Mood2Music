{
 "cells": [
  {
   "cell_type": "code",
   "execution_count": 1,
   "id": "36a307f5",
   "metadata": {
    "_cell_guid": "b1076dfc-b9ad-4769-8c92-a6c4dae69d19",
    "_uuid": "8f2839f25d086af736a60e9eeb907d3b93b6e0e5",
    "execution": {
     "iopub.execute_input": "2025-06-27T02:06:38.132688Z",
     "iopub.status.busy": "2025-06-27T02:06:38.132206Z",
     "iopub.status.idle": "2025-06-27T02:06:55.094508Z",
     "shell.execute_reply": "2025-06-27T02:06:55.093405Z"
    },
    "papermill": {
     "duration": 16.973413,
     "end_time": "2025-06-27T02:06:55.096395",
     "exception": false,
     "start_time": "2025-06-27T02:06:38.122982",
     "status": "completed"
    },
    "tags": []
   },
   "outputs": [
    {
     "name": "stdout",
     "output_type": "stream",
     "text": [
      "/kaggle/input/900k-spotify/final_milliondataset_BERT_500K_revised.json\n",
      "/kaggle/input/900k-spotify/spotify_dataset.csv\n",
      "/kaggle/input/900k-spotify/900k Definitive Spotify Dataset.json\n"
     ]
    }
   ],
   "source": [
    "# This Python 3 environment comes with many helpful analytics libraries installed\n",
    "# It is defined by the kaggle/python Docker image: https://github.com/kaggle/docker-python\n",
    "# For example, here's several helpful packages to load\n",
    "\n",
    "import numpy as np # linear algebra\n",
    "import pandas as pd # data processing, CSV file I/O (e.g. pd.read_csv)\n",
    "import seaborn as sns\n",
    "import matplotlib.pyplot as plt\n",
    "import os\n",
    "import spacy\n",
    "import nltk\n",
    "import scipy.stats as stats\n",
    "from sklearn.model_selection import train_test_split\n",
    "from sklearn.feature_extraction.text import TfidfVectorizer\n",
    "from sklearn.preprocessing import OneHotEncoder\n",
    "from sklearn.metrics import classification_report\n",
    "from sklearn.pipeline import make_pipeline\n",
    "from collections import Counter\n",
    "\n",
    "\n",
    "\n",
    "# Input data files are available in the read-only \"../input/\" directory\n",
    "# For example, running this (by clicking run or pressing Shift+Enter) will list all files under the input directory\n",
    "\n",
    "import os\n",
    "for dirname, _, filenames in os.walk('/kaggle/input'):\n",
    "    for filename in filenames:\n",
    "        print(os.path.join(dirname, filename))\n",
    "\n",
    "# You can write up to 20GB to the current directory (/kaggle/working/) that gets preserved as output when you create a version using \"Save & Run All\" \n",
    "# You can also write temporary files to /kaggle/temp/, but they won't be saved outside of the current session"
   ]
  },
  {
   "cell_type": "code",
   "execution_count": 2,
   "id": "7a5c398c",
   "metadata": {
    "execution": {
     "iopub.execute_input": "2025-06-27T02:06:55.112006Z",
     "iopub.status.busy": "2025-06-27T02:06:55.110403Z",
     "iopub.status.idle": "2025-06-27T02:07:27.132519Z",
     "shell.execute_reply": "2025-06-27T02:07:27.131166Z"
    },
    "papermill": {
     "duration": 32.038472,
     "end_time": "2025-06-27T02:07:27.141786",
     "exception": false,
     "start_time": "2025-06-27T02:06:55.103314",
     "status": "completed"
    },
    "tags": []
   },
   "outputs": [
    {
     "name": "stderr",
     "output_type": "stream",
     "text": [
      "[nltk_data] Error loading stopwords: <urlopen error [Errno -3]\n",
      "[nltk_data]     Temporary failure in name resolution>\n"
     ]
    }
   ],
   "source": [
    "nltk.download('stopwords')\n",
    "from nltk.corpus import stopwords"
   ]
  },
  {
   "cell_type": "code",
   "execution_count": 3,
   "id": "4c60de26",
   "metadata": {
    "execution": {
     "iopub.execute_input": "2025-06-27T02:07:27.156228Z",
     "iopub.status.busy": "2025-06-27T02:07:27.155775Z",
     "iopub.status.idle": "2025-06-27T02:07:27.161091Z",
     "shell.execute_reply": "2025-06-27T02:07:27.160013Z"
    },
    "papermill": {
     "duration": 0.014574,
     "end_time": "2025-06-27T02:07:27.162799",
     "exception": false,
     "start_time": "2025-06-27T02:07:27.148225",
     "status": "completed"
    },
    "tags": []
   },
   "outputs": [],
   "source": [
    "import string\n",
    "import re"
   ]
  },
  {
   "cell_type": "code",
   "execution_count": 4,
   "id": "2d282ce7",
   "metadata": {
    "execution": {
     "iopub.execute_input": "2025-06-27T02:07:27.176829Z",
     "iopub.status.busy": "2025-06-27T02:07:27.176410Z",
     "iopub.status.idle": "2025-06-27T02:08:54.168962Z",
     "shell.execute_reply": "2025-06-27T02:08:54.167747Z"
    },
    "papermill": {
     "duration": 87.002228,
     "end_time": "2025-06-27T02:08:54.171336",
     "exception": false,
     "start_time": "2025-06-27T02:07:27.169108",
     "status": "completed"
    },
    "tags": []
   },
   "outputs": [],
   "source": [
    "from nltk.tokenize import word_tokenize\n",
    "from gensim.models import Word2Vec"
   ]
  },
  {
   "cell_type": "code",
   "execution_count": 5,
   "id": "9edf05ee",
   "metadata": {
    "execution": {
     "iopub.execute_input": "2025-06-27T02:08:54.187867Z",
     "iopub.status.busy": "2025-06-27T02:08:54.186241Z",
     "iopub.status.idle": "2025-06-27T02:09:30.842510Z",
     "shell.execute_reply": "2025-06-27T02:09:30.841447Z"
    },
    "papermill": {
     "duration": 36.666169,
     "end_time": "2025-06-27T02:09:30.844601",
     "exception": false,
     "start_time": "2025-06-27T02:08:54.178432",
     "status": "completed"
    },
    "tags": []
   },
   "outputs": [],
   "source": [
    "df = pd.read_csv('/kaggle/input/900k-spotify/spotify_dataset.csv')"
   ]
  },
  {
   "cell_type": "code",
   "execution_count": 6,
   "id": "53540439",
   "metadata": {
    "execution": {
     "iopub.execute_input": "2025-06-27T02:09:30.858656Z",
     "iopub.status.busy": "2025-06-27T02:09:30.858307Z",
     "iopub.status.idle": "2025-06-27T02:09:30.873129Z",
     "shell.execute_reply": "2025-06-27T02:09:30.872146Z"
    },
    "papermill": {
     "duration": 0.023518,
     "end_time": "2025-06-27T02:09:30.874721",
     "exception": false,
     "start_time": "2025-06-27T02:09:30.851203",
     "status": "completed"
    },
    "tags": []
   },
   "outputs": [
    {
     "data": {
      "text/plain": [
       "0     sadness\n",
       "1     sadness\n",
       "2         joy\n",
       "3         joy\n",
       "4         joy\n",
       "5        love\n",
       "6     sadness\n",
       "7         joy\n",
       "8    surprise\n",
       "9     sadness\n",
       "Name: emotion, dtype: object"
      ]
     },
     "execution_count": 6,
     "metadata": {},
     "output_type": "execute_result"
    }
   ],
   "source": [
    "df['emotion'].head(10)"
   ]
  },
  {
   "cell_type": "code",
   "execution_count": 7,
   "id": "078c1df5",
   "metadata": {
    "execution": {
     "iopub.execute_input": "2025-06-27T02:09:30.888978Z",
     "iopub.status.busy": "2025-06-27T02:09:30.888537Z",
     "iopub.status.idle": "2025-06-27T02:09:32.403297Z",
     "shell.execute_reply": "2025-06-27T02:09:32.402019Z"
    },
    "papermill": {
     "duration": 1.524295,
     "end_time": "2025-06-27T02:09:32.405355",
     "exception": false,
     "start_time": "2025-06-27T02:09:30.881060",
     "status": "completed"
    },
    "tags": []
   },
   "outputs": [],
   "source": [
    "nlp = spacy.load('en_core_web_sm')"
   ]
  },
  {
   "cell_type": "code",
   "execution_count": 8,
   "id": "6a1069dc",
   "metadata": {
    "execution": {
     "iopub.execute_input": "2025-06-27T02:09:32.421042Z",
     "iopub.status.busy": "2025-06-27T02:09:32.420556Z",
     "iopub.status.idle": "2025-06-27T02:09:32.462211Z",
     "shell.execute_reply": "2025-06-27T02:09:32.461054Z"
    },
    "papermill": {
     "duration": 0.052263,
     "end_time": "2025-06-27T02:09:32.464155",
     "exception": false,
     "start_time": "2025-06-27T02:09:32.411892",
     "status": "completed"
    },
    "tags": []
   },
   "outputs": [
    {
     "data": {
      "text/html": [
       "<div>\n",
       "<style scoped>\n",
       "    .dataframe tbody tr th:only-of-type {\n",
       "        vertical-align: middle;\n",
       "    }\n",
       "\n",
       "    .dataframe tbody tr th {\n",
       "        vertical-align: top;\n",
       "    }\n",
       "\n",
       "    .dataframe thead th {\n",
       "        text-align: right;\n",
       "    }\n",
       "</style>\n",
       "<table border=\"1\" class=\"dataframe\">\n",
       "  <thead>\n",
       "    <tr style=\"text-align: right;\">\n",
       "      <th></th>\n",
       "      <th>Artist(s)</th>\n",
       "      <th>song</th>\n",
       "      <th>text</th>\n",
       "      <th>Length</th>\n",
       "      <th>emotion</th>\n",
       "      <th>Genre</th>\n",
       "      <th>Album</th>\n",
       "      <th>Release Date</th>\n",
       "      <th>Key</th>\n",
       "      <th>Tempo</th>\n",
       "      <th>...</th>\n",
       "      <th>Good for Morning Routine</th>\n",
       "      <th>Similar Artist 1</th>\n",
       "      <th>Similar Song 1</th>\n",
       "      <th>Similarity Score 1</th>\n",
       "      <th>Similar Artist 2</th>\n",
       "      <th>Similar Song 2</th>\n",
       "      <th>Similarity Score 2</th>\n",
       "      <th>Similar Artist 3</th>\n",
       "      <th>Similar Song 3</th>\n",
       "      <th>Similarity Score 3</th>\n",
       "    </tr>\n",
       "  </thead>\n",
       "  <tbody>\n",
       "    <tr>\n",
       "      <th>0</th>\n",
       "      <td>!!!</td>\n",
       "      <td>Even When the Waters Cold</td>\n",
       "      <td>Friends told her she was better off at the bot...</td>\n",
       "      <td>03:47</td>\n",
       "      <td>sadness</td>\n",
       "      <td>hip hop</td>\n",
       "      <td>Thr!!!er</td>\n",
       "      <td>29th April 2013</td>\n",
       "      <td>D min</td>\n",
       "      <td>105</td>\n",
       "      <td>...</td>\n",
       "      <td>0</td>\n",
       "      <td>Corey Smith</td>\n",
       "      <td>If I Could Do It Again</td>\n",
       "      <td>0.986061</td>\n",
       "      <td>Toby Keith</td>\n",
       "      <td>Drinks After Work</td>\n",
       "      <td>0.983719</td>\n",
       "      <td>Space</td>\n",
       "      <td>Neighbourhood</td>\n",
       "      <td>0.983236</td>\n",
       "    </tr>\n",
       "    <tr>\n",
       "      <th>1</th>\n",
       "      <td>!!!</td>\n",
       "      <td>One Girl / One Boy</td>\n",
       "      <td>Well I heard it, playing soft From a drunken b...</td>\n",
       "      <td>04:03</td>\n",
       "      <td>sadness</td>\n",
       "      <td>hip hop</td>\n",
       "      <td>Thr!!!er</td>\n",
       "      <td>29th April 2013</td>\n",
       "      <td>A# min</td>\n",
       "      <td>117</td>\n",
       "      <td>...</td>\n",
       "      <td>0</td>\n",
       "      <td>Hiroyuki Sawano</td>\n",
       "      <td>BRE@TH//LESS</td>\n",
       "      <td>0.995409</td>\n",
       "      <td>When In Rome</td>\n",
       "      <td>Heaven Knows</td>\n",
       "      <td>0.990905</td>\n",
       "      <td>Justice Crew</td>\n",
       "      <td>Everybody</td>\n",
       "      <td>0.984483</td>\n",
       "    </tr>\n",
       "    <tr>\n",
       "      <th>2</th>\n",
       "      <td>!!!</td>\n",
       "      <td>Pardon My Freedom</td>\n",
       "      <td>Oh my god, did I just say that out loud? Shoul...</td>\n",
       "      <td>05:51</td>\n",
       "      <td>joy</td>\n",
       "      <td>hip hop</td>\n",
       "      <td>Louden Up Now</td>\n",
       "      <td>8th June 2004</td>\n",
       "      <td>A Maj</td>\n",
       "      <td>121</td>\n",
       "      <td>...</td>\n",
       "      <td>0</td>\n",
       "      <td>Ricky Dillard</td>\n",
       "      <td>More Abundantly Medley Live</td>\n",
       "      <td>0.993176</td>\n",
       "      <td>Juliet</td>\n",
       "      <td>Avalon</td>\n",
       "      <td>0.965147</td>\n",
       "      <td>The Jacksons</td>\n",
       "      <td>Lovely One</td>\n",
       "      <td>0.956752</td>\n",
       "    </tr>\n",
       "    <tr>\n",
       "      <th>3</th>\n",
       "      <td>!!!</td>\n",
       "      <td>Ooo</td>\n",
       "      <td>[Verse 1] Remember when I called you on the te...</td>\n",
       "      <td>03:44</td>\n",
       "      <td>joy</td>\n",
       "      <td>hip hop</td>\n",
       "      <td>As If</td>\n",
       "      <td>16th October 2015</td>\n",
       "      <td>A min</td>\n",
       "      <td>122</td>\n",
       "      <td>...</td>\n",
       "      <td>0</td>\n",
       "      <td>Eric Clapton</td>\n",
       "      <td>Man Overboard</td>\n",
       "      <td>0.992749</td>\n",
       "      <td>Roxette</td>\n",
       "      <td>Don't Believe In Accidents</td>\n",
       "      <td>0.991494</td>\n",
       "      <td>Tiwa Savage</td>\n",
       "      <td>My Darlin</td>\n",
       "      <td>0.990381</td>\n",
       "    </tr>\n",
       "    <tr>\n",
       "      <th>4</th>\n",
       "      <td>!!!</td>\n",
       "      <td>Freedom 15</td>\n",
       "      <td>[Verse 1] Calling me like I got something to s...</td>\n",
       "      <td>06:00</td>\n",
       "      <td>joy</td>\n",
       "      <td>hip hop</td>\n",
       "      <td>As If</td>\n",
       "      <td>16th October 2015</td>\n",
       "      <td>F min</td>\n",
       "      <td>123</td>\n",
       "      <td>...</td>\n",
       "      <td>0</td>\n",
       "      <td>Cibo Matto</td>\n",
       "      <td>Lint Of Love</td>\n",
       "      <td>0.981610</td>\n",
       "      <td>Barrington Levy</td>\n",
       "      <td>Better Than Gold</td>\n",
       "      <td>0.981524</td>\n",
       "      <td>Freestyle</td>\n",
       "      <td>Its Automatic</td>\n",
       "      <td>0.981415</td>\n",
       "    </tr>\n",
       "  </tbody>\n",
       "</table>\n",
       "<p>5 rows × 39 columns</p>\n",
       "</div>"
      ],
      "text/plain": [
       "  Artist(s)                       song  \\\n",
       "0       !!!  Even When the Waters Cold   \n",
       "1       !!!         One Girl / One Boy   \n",
       "2       !!!          Pardon My Freedom   \n",
       "3       !!!                        Ooo   \n",
       "4       !!!                 Freedom 15   \n",
       "\n",
       "                                                text Length  emotion    Genre  \\\n",
       "0  Friends told her she was better off at the bot...  03:47  sadness  hip hop   \n",
       "1  Well I heard it, playing soft From a drunken b...  04:03  sadness  hip hop   \n",
       "2  Oh my god, did I just say that out loud? Shoul...  05:51      joy  hip hop   \n",
       "3  [Verse 1] Remember when I called you on the te...  03:44      joy  hip hop   \n",
       "4  [Verse 1] Calling me like I got something to s...  06:00      joy  hip hop   \n",
       "\n",
       "           Album       Release Date     Key  Tempo  ...  \\\n",
       "0       Thr!!!er    29th April 2013   D min    105  ...   \n",
       "1       Thr!!!er    29th April 2013  A# min    117  ...   \n",
       "2  Louden Up Now      8th June 2004   A Maj    121  ...   \n",
       "3          As If  16th October 2015   A min    122  ...   \n",
       "4          As If  16th October 2015   F min    123  ...   \n",
       "\n",
       "  Good for Morning Routine Similar Artist 1               Similar Song 1  \\\n",
       "0                        0      Corey Smith       If I Could Do It Again   \n",
       "1                        0  Hiroyuki Sawano                 BRE@TH//LESS   \n",
       "2                        0    Ricky Dillard  More Abundantly Medley Live   \n",
       "3                        0     Eric Clapton                Man Overboard   \n",
       "4                        0       Cibo Matto                 Lint Of Love   \n",
       "\n",
       "   Similarity Score 1  Similar Artist 2              Similar Song 2  \\\n",
       "0            0.986061        Toby Keith           Drinks After Work   \n",
       "1            0.995409      When In Rome                Heaven Knows   \n",
       "2            0.993176            Juliet                      Avalon   \n",
       "3            0.992749           Roxette  Don't Believe In Accidents   \n",
       "4            0.981610   Barrington Levy            Better Than Gold   \n",
       "\n",
       "   Similarity Score 2  Similar Artist 3  Similar Song 3  Similarity Score 3  \n",
       "0            0.983719             Space   Neighbourhood            0.983236  \n",
       "1            0.990905      Justice Crew       Everybody            0.984483  \n",
       "2            0.965147      The Jacksons      Lovely One            0.956752  \n",
       "3            0.991494       Tiwa Savage       My Darlin            0.990381  \n",
       "4            0.981524         Freestyle   Its Automatic            0.981415  \n",
       "\n",
       "[5 rows x 39 columns]"
      ]
     },
     "execution_count": 8,
     "metadata": {},
     "output_type": "execute_result"
    }
   ],
   "source": [
    "df.head()"
   ]
  },
  {
   "cell_type": "code",
   "execution_count": 9,
   "id": "b8a72828",
   "metadata": {
    "execution": {
     "iopub.execute_input": "2025-06-27T02:09:32.481154Z",
     "iopub.status.busy": "2025-06-27T02:09:32.480743Z",
     "iopub.status.idle": "2025-06-27T02:09:32.490250Z",
     "shell.execute_reply": "2025-06-27T02:09:32.489052Z"
    },
    "papermill": {
     "duration": 0.020479,
     "end_time": "2025-06-27T02:09:32.492621",
     "exception": false,
     "start_time": "2025-06-27T02:09:32.472142",
     "status": "completed"
    },
    "tags": []
   },
   "outputs": [
    {
     "data": {
      "text/plain": [
       "Index(['Artist(s)', 'song', 'text', 'Length', 'emotion', 'Genre', 'Album',\n",
       "       'Release Date', 'Key', 'Tempo', 'Loudness (db)', 'Time signature',\n",
       "       'Explicit', 'Popularity', 'Energy', 'Danceability', 'Positiveness',\n",
       "       'Speechiness', 'Liveness', 'Acousticness', 'Instrumentalness',\n",
       "       'Good for Party', 'Good for Work/Study',\n",
       "       'Good for Relaxation/Meditation', 'Good for Exercise',\n",
       "       'Good for Running', 'Good for Yoga/Stretching', 'Good for Driving',\n",
       "       'Good for Social Gatherings', 'Good for Morning Routine',\n",
       "       'Similar Artist 1', 'Similar Song 1', 'Similarity Score 1',\n",
       "       'Similar Artist 2', 'Similar Song 2', 'Similarity Score 2',\n",
       "       'Similar Artist 3', 'Similar Song 3', 'Similarity Score 3'],\n",
       "      dtype='object')"
      ]
     },
     "execution_count": 9,
     "metadata": {},
     "output_type": "execute_result"
    }
   ],
   "source": [
    "df.columns"
   ]
  },
  {
   "cell_type": "code",
   "execution_count": 10,
   "id": "e9be88ee",
   "metadata": {
    "execution": {
     "iopub.execute_input": "2025-06-27T02:09:32.508441Z",
     "iopub.status.busy": "2025-06-27T02:09:32.508039Z",
     "iopub.status.idle": "2025-06-27T02:09:32.578661Z",
     "shell.execute_reply": "2025-06-27T02:09:32.577442Z"
    },
    "papermill": {
     "duration": 0.080939,
     "end_time": "2025-06-27T02:09:32.580792",
     "exception": false,
     "start_time": "2025-06-27T02:09:32.499853",
     "status": "completed"
    },
    "tags": []
   },
   "outputs": [],
   "source": [
    "df = df.drop(columns =['Good for Party', 'Good for Work/Study', 'Good for Relaxation/Meditation',\n",
    "    'Good for Exercise', 'Good for Running', 'Good for Yoga/Stretching', \n",
    "    'Good for Driving', 'Good for Social Gatherings', 'Good for Morning Routine','Liveness', 'Instrumentalness', 'Time signature', 'Explicit','Artist(s)', \n",
    "    'song', 'Album', 'Release Date', 'Length', 'Key','Similar Artist 1', 'Similar Song 1', 'Similarity Score 1',\n",
    "    'Similar Artist 2', 'Similar Song 2', 'Similarity Score 2', \n",
    "    'Similar Artist 3', 'Similar Song 3', 'Similarity Score 3'\n",
    "])"
   ]
  },
  {
   "cell_type": "code",
   "execution_count": 11,
   "id": "adcf73e3",
   "metadata": {
    "execution": {
     "iopub.execute_input": "2025-06-27T02:09:32.596588Z",
     "iopub.status.busy": "2025-06-27T02:09:32.596217Z",
     "iopub.status.idle": "2025-06-27T02:09:32.603407Z",
     "shell.execute_reply": "2025-06-27T02:09:32.602204Z"
    },
    "papermill": {
     "duration": 0.017608,
     "end_time": "2025-06-27T02:09:32.605371",
     "exception": false,
     "start_time": "2025-06-27T02:09:32.587763",
     "status": "completed"
    },
    "tags": []
   },
   "outputs": [
    {
     "data": {
      "text/plain": [
       "Index(['text', 'emotion', 'Genre', 'Tempo', 'Loudness (db)', 'Popularity',\n",
       "       'Energy', 'Danceability', 'Positiveness', 'Speechiness',\n",
       "       'Acousticness'],\n",
       "      dtype='object')"
      ]
     },
     "execution_count": 11,
     "metadata": {},
     "output_type": "execute_result"
    }
   ],
   "source": [
    "df.columns"
   ]
  },
  {
   "cell_type": "code",
   "execution_count": 12,
   "id": "cb0d66f4",
   "metadata": {
    "execution": {
     "iopub.execute_input": "2025-06-27T02:09:32.621554Z",
     "iopub.status.busy": "2025-06-27T02:09:32.621193Z",
     "iopub.status.idle": "2025-06-27T02:09:32.668232Z",
     "shell.execute_reply": "2025-06-27T02:09:32.667132Z"
    },
    "papermill": {
     "duration": 0.057402,
     "end_time": "2025-06-27T02:09:32.670268",
     "exception": false,
     "start_time": "2025-06-27T02:09:32.612866",
     "status": "completed"
    },
    "tags": []
   },
   "outputs": [
    {
     "data": {
      "text/plain": [
       "3097"
      ]
     },
     "execution_count": 12,
     "metadata": {},
     "output_type": "execute_result"
    }
   ],
   "source": [
    "df['Genre'].nunique()"
   ]
  },
  {
   "cell_type": "code",
   "execution_count": 13,
   "id": "09370ee0",
   "metadata": {
    "execution": {
     "iopub.execute_input": "2025-06-27T02:09:32.687973Z",
     "iopub.status.busy": "2025-06-27T02:09:32.687540Z",
     "iopub.status.idle": "2025-06-27T02:09:32.808463Z",
     "shell.execute_reply": "2025-06-27T02:09:32.807248Z"
    },
    "papermill": {
     "duration": 0.132389,
     "end_time": "2025-06-27T02:09:32.810615",
     "exception": false,
     "start_time": "2025-06-27T02:09:32.678226",
     "status": "completed"
    },
    "tags": []
   },
   "outputs": [],
   "source": [
    "df=df.dropna(subset=['Genre'])"
   ]
  },
  {
   "cell_type": "code",
   "execution_count": 14,
   "id": "066e0be1",
   "metadata": {
    "execution": {
     "iopub.execute_input": "2025-06-27T02:09:32.827126Z",
     "iopub.status.busy": "2025-06-27T02:09:32.826701Z",
     "iopub.status.idle": "2025-06-27T02:09:33.972849Z",
     "shell.execute_reply": "2025-06-27T02:09:33.971995Z"
    },
    "papermill": {
     "duration": 1.156703,
     "end_time": "2025-06-27T02:09:33.974889",
     "exception": false,
     "start_time": "2025-06-27T02:09:32.818186",
     "status": "completed"
    },
    "tags": []
   },
   "outputs": [],
   "source": [
    "def clean_genre(value):\n",
    "    try:\n",
    "        return [g.strip().lower() for g in str(value).split(',') if g.strip()]\n",
    "    except:\n",
    "        return []\n",
    "df['Genre'] = df['Genre'].apply(clean_genre)"
   ]
  },
  {
   "cell_type": "code",
   "execution_count": 15,
   "id": "4ef34c9a",
   "metadata": {
    "execution": {
     "iopub.execute_input": "2025-06-27T02:09:33.990878Z",
     "iopub.status.busy": "2025-06-27T02:09:33.989802Z",
     "iopub.status.idle": "2025-06-27T02:09:33.994548Z",
     "shell.execute_reply": "2025-06-27T02:09:33.993770Z"
    },
    "papermill": {
     "duration": 0.013988,
     "end_time": "2025-06-27T02:09:33.996105",
     "exception": false,
     "start_time": "2025-06-27T02:09:33.982117",
     "status": "completed"
    },
    "tags": []
   },
   "outputs": [],
   "source": [
    "import ast"
   ]
  },
  {
   "cell_type": "code",
   "execution_count": 16,
   "id": "ffe6793c",
   "metadata": {
    "execution": {
     "iopub.execute_input": "2025-06-27T02:09:34.011111Z",
     "iopub.status.busy": "2025-06-27T02:09:34.010620Z",
     "iopub.status.idle": "2025-06-27T02:09:35.503940Z",
     "shell.execute_reply": "2025-06-27T02:09:35.502806Z"
    },
    "papermill": {
     "duration": 1.502968,
     "end_time": "2025-06-27T02:09:35.505932",
     "exception": false,
     "start_time": "2025-06-27T02:09:34.002964",
     "status": "completed"
    },
    "tags": []
   },
   "outputs": [],
   "source": [
    "def unwrap_genres(raw):\n",
    "    try:\n",
    "        while isinstance(raw, str):\n",
    "            raw = ast.literal_eval(raw)\n",
    "        if isinstance(raw, list):\n",
    "            return [g.strip().lower() for g in raw if isinstance(g, str)]\n",
    "        return []\n",
    "    except Exception:\n",
    "        return []\n",
    "\n",
    "df['Genre'] = df['Genre'].apply(unwrap_genres)"
   ]
  },
  {
   "cell_type": "code",
   "execution_count": 17,
   "id": "a33a3232",
   "metadata": {
    "execution": {
     "iopub.execute_input": "2025-06-27T02:09:35.520884Z",
     "iopub.status.busy": "2025-06-27T02:09:35.520431Z",
     "iopub.status.idle": "2025-06-27T02:09:35.753430Z",
     "shell.execute_reply": "2025-06-27T02:09:35.752352Z"
    },
    "papermill": {
     "duration": 0.242363,
     "end_time": "2025-06-27T02:09:35.755026",
     "exception": false,
     "start_time": "2025-06-27T02:09:35.512663",
     "status": "completed"
    },
    "tags": []
   },
   "outputs": [
    {
     "name": "stdout",
     "output_type": "stream",
     "text": [
      "Counter({'hip hop': 291844, 'rock': 84112, 'pop': 64388, 'alternative rock': 40271, 'indie rock': 22744, 'pop rock': 22592, 'electronic': 21474, 'folk': 20268, 'country': 16441, 'jazz': 16051, 'rap': 15969, 'soul': 15947, 'metal': 15583, 'trap': 15326, 'heavy metal': 13143, 'blues': 12786, 'hard rock': 11958, 'punk': 11427, 'indie pop': 10617, 'progressive rock': 10097, 'synthpop': 9215, 'hip-hop': 8794, 'reggae': 8511, 'electropop': 8375, 'funk': 6985, 'psychedelic rock': 6976, 'punk rock': 6658, 'indie': 6471, 'classic rock': 5822, 'new wave': 5782, 'classical': 5475, 'dance': 4667, 'metalcore': 4469, 'post-hardcore': 4384, 'progressive metal': 4117, 'emo': 4056, 'pop punk': 3876, 'alternative': 3870, 'post-punk': 3581, 'experimental': 3550, 'soundtrack': 3508, 'gospel': 3339, 'ambient': 3335, 'swing': 3320, 'rnb': 3099, 'thrash metal': 2896, 'drum and bass': 2639, 'death metal': 2508, 'cloud rap': 2489, 'house': 2485, 'trance': 2447, 'disco': 2358, 'lo-fi': 2281, 'dream pop': 2176, 'shoegaze': 2173, 'industrial': 2137, 'nu metal': 2090, 'dub': 2050, 'grunge': 2026, 'power metal': 1864, 'christian': 1740, 'emo rap': 1719, 'garage rock': 1650, 'melodic death metal': 1619, 'dancehall': 1547, 'k-pop': 1460, 'hardcore': 1434, 'black metal': 1392, 'comedy': 1251, 'latin': 1120, 'deathcore': 1041, 'acoustic': 976, 'doom metal': 956, 'screamo': 880, 'techno': 870, 'j-pop': 862, 'electro': 848, 'grime': 802, 'dubstep': 774, 'britpop': 768, 'math rock': 679, 'trip-hop': 659, 'chillwave': 620, 'alt-country': 602, 'worship': 450, 'psychedelic': 323, 'chillout': 149, 'reggaeton': 34})\n"
     ]
    }
   ],
   "source": [
    "all_genres = df['Genre'].explode()\n",
    "genre_counts = Counter(all_genres)\n",
    "print(genre_counts)"
   ]
  },
  {
   "cell_type": "code",
   "execution_count": 18,
   "id": "70676680",
   "metadata": {
    "execution": {
     "iopub.execute_input": "2025-06-27T02:09:35.770183Z",
     "iopub.status.busy": "2025-06-27T02:09:35.769733Z",
     "iopub.status.idle": "2025-06-27T02:09:36.949827Z",
     "shell.execute_reply": "2025-06-27T02:09:36.948781Z"
    },
    "papermill": {
     "duration": 1.189901,
     "end_time": "2025-06-27T02:09:36.951646",
     "exception": false,
     "start_time": "2025-06-27T02:09:35.761745",
     "status": "completed"
    },
    "tags": []
   },
   "outputs": [
    {
     "name": "stdout",
     "output_type": "stream",
     "text": [
      "{'indie pop', 'doom metal', 'rnb', 'dream pop', 'emo', 'alt-country', 'math rock', 'acoustic', 'j-pop', 'trip-hop', 'dub', 'psychedelic', 'disco', 'grime', 'deathcore', 'chillout', 'progressive rock', 'classical', 'metalcore', 'latin', 'experimental', 'garage rock', 'cloud rap', 'death metal', 'black metal', 'electronic', 'swing', 'dance', 'alternative rock', 'punk rock', 'emo rap', 'indie rock', 'metal', 'dancehall', 'comedy', 'post-punk', 'house', 'industrial', 'classic rock', 'progressive metal', 'post-hardcore', 'melodic death metal', 'drum and bass', 'ambient', 'new wave', 'heavy metal', 'soul', 'gospel', 'chillwave', 'indie', 'electropop', 'country', 'rap', 'k-pop', 'funk', 'screamo', 'christian', 'thrash metal', 'pop', 'punk', 'dubstep', 'trap', 'pop punk', 'synthpop', 'soundtrack', 'power metal', 'hard rock', 'shoegaze', 'blues', 'trance', 'pop rock', 'jazz', 'hip-hop', 'grunge', 'alternative', 'rock', 'reggae', 'nu metal', 'psychedelic rock', 'hardcore', 'lo-fi', 'electro', 'hip hop', 'folk', 'britpop', 'worship', 'techno'}\n"
     ]
    }
   ],
   "source": [
    "genre_counts = Counter(all_genres)\n",
    "top_genres = {genre for genre, count in genre_counts.items() if count >= 100}\n",
    "print(top_genres)\n",
    "\n",
    "def filter_genres(genre_list):\n",
    "    return [g if g in top_genres else 'other' for g in genre_list]\n",
    "\n",
    "df['Filtered_Genre'] = df['Genre'].apply(filter_genres)"
   ]
  },
  {
   "cell_type": "code",
   "execution_count": 19,
   "id": "99d28f2d",
   "metadata": {
    "execution": {
     "iopub.execute_input": "2025-06-27T02:09:36.966747Z",
     "iopub.status.busy": "2025-06-27T02:09:36.966427Z",
     "iopub.status.idle": "2025-06-27T02:09:37.055078Z",
     "shell.execute_reply": "2025-06-27T02:09:37.053919Z"
    },
    "papermill": {
     "duration": 0.09802,
     "end_time": "2025-06-27T02:09:37.056680",
     "exception": false,
     "start_time": "2025-06-27T02:09:36.958660",
     "status": "completed"
    },
    "tags": []
   },
   "outputs": [],
   "source": [
    "df = df.drop(columns=['Genre'])"
   ]
  },
  {
   "cell_type": "code",
   "execution_count": 20,
   "id": "1fc0d641",
   "metadata": {
    "execution": {
     "iopub.execute_input": "2025-06-27T02:09:37.071224Z",
     "iopub.status.busy": "2025-06-27T02:09:37.070877Z",
     "iopub.status.idle": "2025-06-27T02:09:37.076888Z",
     "shell.execute_reply": "2025-06-27T02:09:37.075923Z"
    },
    "papermill": {
     "duration": 0.014913,
     "end_time": "2025-06-27T02:09:37.078295",
     "exception": false,
     "start_time": "2025-06-27T02:09:37.063382",
     "status": "completed"
    },
    "tags": []
   },
   "outputs": [
    {
     "data": {
      "text/plain": [
       "Index(['text', 'emotion', 'Tempo', 'Loudness (db)', 'Popularity', 'Energy',\n",
       "       'Danceability', 'Positiveness', 'Speechiness', 'Acousticness',\n",
       "       'Filtered_Genre'],\n",
       "      dtype='object')"
      ]
     },
     "execution_count": 20,
     "metadata": {},
     "output_type": "execute_result"
    }
   ],
   "source": [
    "df.columns"
   ]
  },
  {
   "cell_type": "code",
   "execution_count": 21,
   "id": "2bd5e631",
   "metadata": {
    "execution": {
     "iopub.execute_input": "2025-06-27T02:09:37.093062Z",
     "iopub.status.busy": "2025-06-27T02:09:37.092649Z",
     "iopub.status.idle": "2025-06-27T02:09:37.614272Z",
     "shell.execute_reply": "2025-06-27T02:09:37.613197Z"
    },
    "papermill": {
     "duration": 0.531301,
     "end_time": "2025-06-27T02:09:37.616392",
     "exception": false,
     "start_time": "2025-06-27T02:09:37.085091",
     "status": "completed"
    },
    "tags": []
   },
   "outputs": [
    {
     "name": "stdout",
     "output_type": "stream",
     "text": [
      "text              0\n",
      "emotion           0\n",
      "Tempo             0\n",
      "Loudness (db)     0\n",
      "Popularity        0\n",
      "Energy            0\n",
      "Danceability      0\n",
      "Positiveness      0\n",
      "Speechiness       0\n",
      "Acousticness      0\n",
      "Filtered_Genre    0\n",
      "dtype: int64\n"
     ]
    }
   ],
   "source": [
    "df.isna().values.any()\n",
    "df.isna().head()\n",
    "nan_count = np.sum(df.isna(), axis = 0)\n",
    "print(nan_count)"
   ]
  },
  {
   "cell_type": "code",
   "execution_count": 22,
   "id": "ad125f10",
   "metadata": {
    "execution": {
     "iopub.execute_input": "2025-06-27T02:09:37.632668Z",
     "iopub.status.busy": "2025-06-27T02:09:37.632298Z",
     "iopub.status.idle": "2025-06-27T02:09:37.780620Z",
     "shell.execute_reply": "2025-06-27T02:09:37.779386Z"
    },
    "papermill": {
     "duration": 0.158733,
     "end_time": "2025-06-27T02:09:37.782538",
     "exception": false,
     "start_time": "2025-06-27T02:09:37.623805",
     "status": "completed"
    },
    "tags": []
   },
   "outputs": [
    {
     "name": "stdout",
     "output_type": "stream",
     "text": [
      "Counter({'joy': 209009, 'sadness': 171078, 'anger': 109678, 'fear': 28097, 'love': 27963, 'surprise': 5592, 'True': 17, 'Love': 3, 'pink': 2, 'angry': 1, 'thirst': 1, 'confusion': 1, 'interest': 1})\n"
     ]
    }
   ],
   "source": [
    "all_emotions = df['emotion'].explode()\n",
    "emotion_counts = Counter(all_emotions)\n",
    "print(emotion_counts)"
   ]
  },
  {
   "cell_type": "code",
   "execution_count": 23,
   "id": "ff0134ee",
   "metadata": {
    "execution": {
     "iopub.execute_input": "2025-06-27T02:09:37.799098Z",
     "iopub.status.busy": "2025-06-27T02:09:37.798655Z",
     "iopub.status.idle": "2025-06-27T02:09:37.905397Z",
     "shell.execute_reply": "2025-06-27T02:09:37.904265Z"
    },
    "papermill": {
     "duration": 0.117404,
     "end_time": "2025-06-27T02:09:37.907448",
     "exception": false,
     "start_time": "2025-06-27T02:09:37.790044",
     "status": "completed"
    },
    "tags": []
   },
   "outputs": [
    {
     "name": "stdout",
     "output_type": "stream",
     "text": [
      "{'joy', 'fear', 'anger', 'love', 'sadness', 'surprise'}\n"
     ]
    }
   ],
   "source": [
    "top_emotions = {emotion for emotion, count in emotion_counts.items() if count >= 100}\n",
    "print(top_emotions)\n",
    "\n",
    "def filter_emotion(emotion):\n",
    "    return emotion if emotion in top_emotions else 'other'\n",
    "\n",
    "df['Filtered_Emotions'] = df['emotion'].apply(filter_emotion)"
   ]
  },
  {
   "cell_type": "code",
   "execution_count": 24,
   "id": "0b5fc58b",
   "metadata": {
    "execution": {
     "iopub.execute_input": "2025-06-27T02:09:37.923750Z",
     "iopub.status.busy": "2025-06-27T02:09:37.923380Z",
     "iopub.status.idle": "2025-06-27T02:09:37.975590Z",
     "shell.execute_reply": "2025-06-27T02:09:37.974557Z"
    },
    "papermill": {
     "duration": 0.062846,
     "end_time": "2025-06-27T02:09:37.977696",
     "exception": false,
     "start_time": "2025-06-27T02:09:37.914850",
     "status": "completed"
    },
    "tags": []
   },
   "outputs": [
    {
     "data": {
      "text/plain": [
       "Filtered_Emotions\n",
       "joy         209009\n",
       "sadness     171078\n",
       "anger       109678\n",
       "fear         28097\n",
       "love         27963\n",
       "surprise      5592\n",
       "other           26\n",
       "Name: count, dtype: int64"
      ]
     },
     "execution_count": 24,
     "metadata": {},
     "output_type": "execute_result"
    }
   ],
   "source": [
    "df['Filtered_Emotions'].value_counts()"
   ]
  },
  {
   "cell_type": "code",
   "execution_count": 25,
   "id": "6544aba1",
   "metadata": {
    "execution": {
     "iopub.execute_input": "2025-06-27T02:09:37.994393Z",
     "iopub.status.busy": "2025-06-27T02:09:37.994013Z",
     "iopub.status.idle": "2025-06-27T02:09:44.505132Z",
     "shell.execute_reply": "2025-06-27T02:09:44.504195Z"
    },
    "papermill": {
     "duration": 6.521709,
     "end_time": "2025-06-27T02:09:44.507100",
     "exception": false,
     "start_time": "2025-06-27T02:09:37.985391",
     "status": "completed"
    },
    "tags": []
   },
   "outputs": [],
   "source": [
    "df['Filtered_Lyrics']= df['text'].str.lower().str.strip()\n",
    "df = df.drop_duplicates(subset=['Filtered_Lyrics'])"
   ]
  },
  {
   "cell_type": "markdown",
   "id": "249f1120",
   "metadata": {
    "papermill": {
     "duration": 0.006942,
     "end_time": "2025-06-27T02:09:44.521536",
     "exception": false,
     "start_time": "2025-06-27T02:09:44.514594",
     "status": "completed"
    },
    "tags": []
   },
   "source": [
    "The lyrics text has a division between chorus, bridge and such. So for the model to not get confused I'm removing those as well in the pre process method"
   ]
  },
  {
   "cell_type": "code",
   "execution_count": 26,
   "id": "18e74ddf",
   "metadata": {
    "execution": {
     "iopub.execute_input": "2025-06-27T02:09:44.537035Z",
     "iopub.status.busy": "2025-06-27T02:09:44.536667Z",
     "iopub.status.idle": "2025-06-27T02:09:44.541703Z",
     "shell.execute_reply": "2025-06-27T02:09:44.540709Z"
    },
    "papermill": {
     "duration": 0.014792,
     "end_time": "2025-06-27T02:09:44.543290",
     "exception": false,
     "start_time": "2025-06-27T02:09:44.528498",
     "status": "completed"
    },
    "tags": []
   },
   "outputs": [],
   "source": [
    "def remove_headers(text):\n",
    "    return re.sub(r'[\\[\\(]?(verse|chorus|bridge|intro|outro|hook|pre-chorus|refrain)[^\\]\\)]*[\\]\\)]?', '', text, flags=re.IGNORECASE)"
   ]
  },
  {
   "cell_type": "markdown",
   "id": "6eb0a7d1",
   "metadata": {
    "papermill": {
     "duration": 0.006769,
     "end_time": "2025-06-27T02:09:44.557278",
     "exception": false,
     "start_time": "2025-06-27T02:09:44.550509",
     "status": "completed"
    },
    "tags": []
   },
   "source": [
    "Remove special characters,extra spaces, punctuation and stopwords then tokenize"
   ]
  },
  {
   "cell_type": "code",
   "execution_count": 27,
   "id": "d6c15d14",
   "metadata": {
    "execution": {
     "iopub.execute_input": "2025-06-27T02:09:44.572715Z",
     "iopub.status.busy": "2025-06-27T02:09:44.572444Z",
     "iopub.status.idle": "2025-06-27T02:09:44.578602Z",
     "shell.execute_reply": "2025-06-27T02:09:44.577767Z"
    },
    "papermill": {
     "duration": 0.015656,
     "end_time": "2025-06-27T02:09:44.580029",
     "exception": false,
     "start_time": "2025-06-27T02:09:44.564373",
     "status": "completed"
    },
    "tags": []
   },
   "outputs": [],
   "source": [
    "def pre_processing (text):\n",
    "     stop_words = set(stopwords.words('english'))\n",
    "     text = remove_headers(text)\n",
    "     text = re.sub(r'\\d+', '', text)\n",
    "     text = text.translate(str.maketrans('', '', string.punctuation))\n",
    "     text = re.sub(r'\\s+', ' ', text).strip()\n",
    "     tokens= nltk.word_tokenize(text)\n",
    "     tokens = [word for word in tokens if word not in stop_words]\n",
    "     text = ' '.join(tokens)\n",
    "     return text"
   ]
  },
  {
   "cell_type": "code",
   "execution_count": 28,
   "id": "f1c91d3c",
   "metadata": {
    "execution": {
     "iopub.execute_input": "2025-06-27T02:09:44.595425Z",
     "iopub.status.busy": "2025-06-27T02:09:44.595088Z",
     "iopub.status.idle": "2025-06-27T02:23:17.747564Z",
     "shell.execute_reply": "2025-06-27T02:23:17.746619Z"
    },
    "papermill": {
     "duration": 813.162344,
     "end_time": "2025-06-27T02:23:17.749476",
     "exception": false,
     "start_time": "2025-06-27T02:09:44.587132",
     "status": "completed"
    },
    "tags": []
   },
   "outputs": [],
   "source": [
    "df['Filtered_Lyrics'] = df['Filtered_Lyrics'].apply(pre_processing)\n",
    "    "
   ]
  },
  {
   "cell_type": "markdown",
   "id": "64a39083",
   "metadata": {
    "papermill": {
     "duration": 0.006858,
     "end_time": "2025-06-27T02:23:17.764880",
     "exception": false,
     "start_time": "2025-06-27T02:23:17.758022",
     "status": "completed"
    },
    "tags": []
   },
   "source": [
    "The loudness column had db after the number, meaning it is a string and we wouldn't be able to conduct numerical operations with it so I converted it"
   ]
  },
  {
   "cell_type": "code",
   "execution_count": 29,
   "id": "a616bbe0",
   "metadata": {
    "execution": {
     "iopub.execute_input": "2025-06-27T02:23:17.793481Z",
     "iopub.status.busy": "2025-06-27T02:23:17.793068Z",
     "iopub.status.idle": "2025-06-27T02:23:18.183716Z",
     "shell.execute_reply": "2025-06-27T02:23:18.182610Z"
    },
    "papermill": {
     "duration": 0.41367,
     "end_time": "2025-06-27T02:23:18.185618",
     "exception": false,
     "start_time": "2025-06-27T02:23:17.771948",
     "status": "completed"
    },
    "tags": []
   },
   "outputs": [],
   "source": [
    "df['Loudness (db)'] = pd.to_numeric(df['Loudness (db)'].str.replace('db', '', regex=False), errors='coerce')"
   ]
  },
  {
   "cell_type": "markdown",
   "id": "bf80d7b0",
   "metadata": {
    "papermill": {
     "duration": 0.006656,
     "end_time": "2025-06-27T02:23:18.199472",
     "exception": false,
     "start_time": "2025-06-27T02:23:18.192816",
     "status": "completed"
    },
    "tags": []
   },
   "source": [
    "Checking if it is needed to convert any other column into numeric"
   ]
  },
  {
   "cell_type": "code",
   "execution_count": 30,
   "id": "ac50952a",
   "metadata": {
    "execution": {
     "iopub.execute_input": "2025-06-27T02:23:18.214897Z",
     "iopub.status.busy": "2025-06-27T02:23:18.214581Z",
     "iopub.status.idle": "2025-06-27T02:23:18.220546Z",
     "shell.execute_reply": "2025-06-27T02:23:18.219711Z"
    },
    "papermill": {
     "duration": 0.015603,
     "end_time": "2025-06-27T02:23:18.222014",
     "exception": false,
     "start_time": "2025-06-27T02:23:18.206411",
     "status": "completed"
    },
    "tags": []
   },
   "outputs": [
    {
     "name": "stdout",
     "output_type": "stream",
     "text": [
      "int64 int64 int64 int64 int64 int64\n"
     ]
    }
   ],
   "source": [
    "print(df['Danceability'].dtype,\n",
    "df['Energy'].dtype,\n",
    "df['Popularity'].dtype,\n",
    "df['Positiveness'].dtype,\n",
    "df['Speechiness'].dtype,\n",
    "df['Acousticness'].dtype)"
   ]
  },
  {
   "cell_type": "code",
   "execution_count": 31,
   "id": "b26c0b1d",
   "metadata": {
    "execution": {
     "iopub.execute_input": "2025-06-27T02:23:18.237709Z",
     "iopub.status.busy": "2025-06-27T02:23:18.237381Z",
     "iopub.status.idle": "2025-06-27T02:23:18.243081Z",
     "shell.execute_reply": "2025-06-27T02:23:18.242175Z"
    },
    "papermill": {
     "duration": 0.015169,
     "end_time": "2025-06-27T02:23:18.244432",
     "exception": false,
     "start_time": "2025-06-27T02:23:18.229263",
     "status": "completed"
    },
    "tags": []
   },
   "outputs": [
    {
     "data": {
      "text/plain": [
       "(497466, 13)"
      ]
     },
     "execution_count": 31,
     "metadata": {},
     "output_type": "execute_result"
    }
   ],
   "source": [
    "df.shape"
   ]
  },
  {
   "cell_type": "code",
   "execution_count": 32,
   "id": "73865ed7",
   "metadata": {
    "execution": {
     "iopub.execute_input": "2025-06-27T02:23:18.260990Z",
     "iopub.status.busy": "2025-06-27T02:23:18.260255Z",
     "iopub.status.idle": "2025-06-27T02:23:18.446103Z",
     "shell.execute_reply": "2025-06-27T02:23:18.444985Z"
    },
    "papermill": {
     "duration": 0.195792,
     "end_time": "2025-06-27T02:23:18.447617",
     "exception": false,
     "start_time": "2025-06-27T02:23:18.251825",
     "status": "completed"
    },
    "tags": []
   },
   "outputs": [
    {
     "data": {
      "text/html": [
       "<div>\n",
       "<style scoped>\n",
       "    .dataframe tbody tr th:only-of-type {\n",
       "        vertical-align: middle;\n",
       "    }\n",
       "\n",
       "    .dataframe tbody tr th {\n",
       "        vertical-align: top;\n",
       "    }\n",
       "\n",
       "    .dataframe thead th {\n",
       "        text-align: right;\n",
       "    }\n",
       "</style>\n",
       "<table border=\"1\" class=\"dataframe\">\n",
       "  <thead>\n",
       "    <tr style=\"text-align: right;\">\n",
       "      <th></th>\n",
       "      <th>Tempo</th>\n",
       "      <th>Loudness (db)</th>\n",
       "      <th>Popularity</th>\n",
       "      <th>Energy</th>\n",
       "      <th>Danceability</th>\n",
       "      <th>Positiveness</th>\n",
       "      <th>Speechiness</th>\n",
       "      <th>Acousticness</th>\n",
       "    </tr>\n",
       "  </thead>\n",
       "  <tbody>\n",
       "    <tr>\n",
       "      <th>count</th>\n",
       "      <td>497466.000000</td>\n",
       "      <td>497466.000000</td>\n",
       "      <td>497466.000000</td>\n",
       "      <td>497466.000000</td>\n",
       "      <td>497466.000000</td>\n",
       "      <td>497466.000000</td>\n",
       "      <td>497466.000000</td>\n",
       "      <td>497466.000000</td>\n",
       "    </tr>\n",
       "    <tr>\n",
       "      <th>mean</th>\n",
       "      <td>120.782359</td>\n",
       "      <td>-8.107713</td>\n",
       "      <td>30.481703</td>\n",
       "      <td>62.756261</td>\n",
       "      <td>58.291536</td>\n",
       "      <td>47.067373</td>\n",
       "      <td>11.402984</td>\n",
       "      <td>26.039154</td>\n",
       "    </tr>\n",
       "    <tr>\n",
       "      <th>std</th>\n",
       "      <td>29.262926</td>\n",
       "      <td>4.014701</td>\n",
       "      <td>17.185743</td>\n",
       "      <td>22.682011</td>\n",
       "      <td>17.352046</td>\n",
       "      <td>24.090915</td>\n",
       "      <td>12.285441</td>\n",
       "      <td>29.607546</td>\n",
       "    </tr>\n",
       "    <tr>\n",
       "      <th>min</th>\n",
       "      <td>31.000000</td>\n",
       "      <td>-50.060000</td>\n",
       "      <td>0.000000</td>\n",
       "      <td>0.000000</td>\n",
       "      <td>6.000000</td>\n",
       "      <td>0.000000</td>\n",
       "      <td>2.000000</td>\n",
       "      <td>0.000000</td>\n",
       "    </tr>\n",
       "    <tr>\n",
       "      <th>25%</th>\n",
       "      <td>97.000000</td>\n",
       "      <td>-9.950000</td>\n",
       "      <td>19.000000</td>\n",
       "      <td>48.000000</td>\n",
       "      <td>46.000000</td>\n",
       "      <td>28.000000</td>\n",
       "      <td>4.000000</td>\n",
       "      <td>2.000000</td>\n",
       "    </tr>\n",
       "    <tr>\n",
       "      <th>50%</th>\n",
       "      <td>120.000000</td>\n",
       "      <td>-7.250000</td>\n",
       "      <td>28.000000</td>\n",
       "      <td>65.000000</td>\n",
       "      <td>59.000000</td>\n",
       "      <td>46.000000</td>\n",
       "      <td>6.000000</td>\n",
       "      <td>13.000000</td>\n",
       "    </tr>\n",
       "    <tr>\n",
       "      <th>75%</th>\n",
       "      <td>140.000000</td>\n",
       "      <td>-5.400000</td>\n",
       "      <td>40.000000</td>\n",
       "      <td>81.000000</td>\n",
       "      <td>71.000000</td>\n",
       "      <td>66.000000</td>\n",
       "      <td>14.000000</td>\n",
       "      <td>44.000000</td>\n",
       "    </tr>\n",
       "    <tr>\n",
       "      <th>max</th>\n",
       "      <td>200.000000</td>\n",
       "      <td>4.980000</td>\n",
       "      <td>100.000000</td>\n",
       "      <td>100.000000</td>\n",
       "      <td>99.000000</td>\n",
       "      <td>100.000000</td>\n",
       "      <td>97.000000</td>\n",
       "      <td>100.000000</td>\n",
       "    </tr>\n",
       "  </tbody>\n",
       "</table>\n",
       "</div>"
      ],
      "text/plain": [
       "               Tempo  Loudness (db)     Popularity         Energy  \\\n",
       "count  497466.000000  497466.000000  497466.000000  497466.000000   \n",
       "mean      120.782359      -8.107713      30.481703      62.756261   \n",
       "std        29.262926       4.014701      17.185743      22.682011   \n",
       "min        31.000000     -50.060000       0.000000       0.000000   \n",
       "25%        97.000000      -9.950000      19.000000      48.000000   \n",
       "50%       120.000000      -7.250000      28.000000      65.000000   \n",
       "75%       140.000000      -5.400000      40.000000      81.000000   \n",
       "max       200.000000       4.980000     100.000000     100.000000   \n",
       "\n",
       "        Danceability   Positiveness    Speechiness   Acousticness  \n",
       "count  497466.000000  497466.000000  497466.000000  497466.000000  \n",
       "mean       58.291536      47.067373      11.402984      26.039154  \n",
       "std        17.352046      24.090915      12.285441      29.607546  \n",
       "min         6.000000       0.000000       2.000000       0.000000  \n",
       "25%        46.000000      28.000000       4.000000       2.000000  \n",
       "50%        59.000000      46.000000       6.000000      13.000000  \n",
       "75%        71.000000      66.000000      14.000000      44.000000  \n",
       "max        99.000000     100.000000      97.000000     100.000000  "
      ]
     },
     "execution_count": 32,
     "metadata": {},
     "output_type": "execute_result"
    }
   ],
   "source": [
    "df.describe()"
   ]
  },
  {
   "cell_type": "code",
   "execution_count": 33,
   "id": "ea4b5f7c",
   "metadata": {
    "execution": {
     "iopub.execute_input": "2025-06-27T02:23:18.464357Z",
     "iopub.status.busy": "2025-06-27T02:23:18.464052Z",
     "iopub.status.idle": "2025-06-27T02:41:06.614965Z",
     "shell.execute_reply": "2025-06-27T02:41:06.614000Z"
    },
    "papermill": {
     "duration": 1068.16126,
     "end_time": "2025-06-27T02:41:06.616802",
     "exception": false,
     "start_time": "2025-06-27T02:23:18.455542",
     "status": "completed"
    },
    "tags": []
   },
   "outputs": [],
   "source": [
    "tokenized_texts = [text.split() for text in df['text']]\n",
    "w2v_model = Word2Vec(sentences=tokenized_texts, vector_size=100, window=5, min_count=1)"
   ]
  }
 ],
 "metadata": {
  "kaggle": {
   "accelerator": "none",
   "dataSources": [
    {
     "datasetId": 7090023,
     "sourceId": 11815953,
     "sourceType": "datasetVersion"
    }
   ],
   "dockerImageVersionId": 31040,
   "isGpuEnabled": false,
   "isInternetEnabled": false,
   "language": "python",
   "sourceType": "notebook"
  },
  "kernelspec": {
   "display_name": "Python 3",
   "language": "python",
   "name": "python3"
  },
  "language_info": {
   "codemirror_mode": {
    "name": "ipython",
    "version": 3
   },
   "file_extension": ".py",
   "mimetype": "text/x-python",
   "name": "python",
   "nbconvert_exporter": "python",
   "pygments_lexer": "ipython3",
   "version": "3.11.11"
  },
  "papermill": {
   "default_parameters": {},
   "duration": 2078.378899,
   "end_time": "2025-06-27T02:41:11.056536",
   "environment_variables": {},
   "exception": null,
   "input_path": "__notebook__.ipynb",
   "output_path": "__notebook__.ipynb",
   "parameters": {},
   "start_time": "2025-06-27T02:06:32.677637",
   "version": "2.6.0"
  }
 },
 "nbformat": 4,
 "nbformat_minor": 5
}
